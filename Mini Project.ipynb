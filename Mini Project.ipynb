{
 "cells": [
  {
   "cell_type": "markdown",
   "id": "9e27c4ab",
   "metadata": {},
   "source": [
    "### Project: Analyzing Customer Purchases and Categorizing Spending Behavior"
   ]
  },
  {
   "cell_type": "code",
   "execution_count": 8,
   "id": "3262e194",
   "metadata": {},
   "outputs": [
    {
     "name": "stderr",
     "output_type": "stream",
     "text": [
      "also installing the dependencies 'fansi', 'pkgconfig', 'withr', 'generics', 'tibble', 'tidyselect'\n",
      "\n",
      "\n"
     ]
    },
    {
     "name": "stdout",
     "output_type": "stream",
     "text": [
      "package 'fansi' successfully unpacked and MD5 sums checked\n",
      "package 'pkgconfig' successfully unpacked and MD5 sums checked\n",
      "package 'withr' successfully unpacked and MD5 sums checked\n",
      "package 'generics' successfully unpacked and MD5 sums checked\n",
      "package 'tibble' successfully unpacked and MD5 sums checked\n",
      "package 'tidyselect' successfully unpacked and MD5 sums checked\n",
      "package 'dplyr' successfully unpacked and MD5 sums checked\n",
      "\n",
      "The downloaded binary packages are in\n",
      "\tC:\\Users\\Administrator\\AppData\\Local\\Temp\\RtmpYBYxNt\\downloaded_packages\n"
     ]
    },
    {
     "name": "stderr",
     "output_type": "stream",
     "text": [
      "also installing the dependencies 'colorspace', 'farver', 'labeling', 'munsell', 'RColorBrewer', 'viridisLite', 'gtable', 'isoband', 'scales'\n",
      "\n",
      "\n"
     ]
    },
    {
     "name": "stdout",
     "output_type": "stream",
     "text": [
      "package 'colorspace' successfully unpacked and MD5 sums checked\n",
      "package 'farver' successfully unpacked and MD5 sums checked\n",
      "package 'labeling' successfully unpacked and MD5 sums checked\n",
      "package 'munsell' successfully unpacked and MD5 sums checked\n",
      "package 'RColorBrewer' successfully unpacked and MD5 sums checked\n",
      "package 'viridisLite' successfully unpacked and MD5 sums checked\n",
      "package 'gtable' successfully unpacked and MD5 sums checked\n",
      "package 'isoband' successfully unpacked and MD5 sums checked\n",
      "package 'scales' successfully unpacked and MD5 sums checked\n",
      "package 'ggplot2' successfully unpacked and MD5 sums checked\n",
      "\n",
      "The downloaded binary packages are in\n",
      "\tC:\\Users\\Administrator\\AppData\\Local\\Temp\\RtmpYBYxNt\\downloaded_packages\n"
     ]
    }
   ],
   "source": [
    "#install.packages(\"dplyr\")\n",
    "#install.packages(\"ggplot2\")"
   ]
  },
  {
   "cell_type": "code",
   "execution_count": 9,
   "id": "f15505de",
   "metadata": {},
   "outputs": [
    {
     "name": "stderr",
     "output_type": "stream",
     "text": [
      "\n",
      "Attaching package: 'dplyr'\n",
      "\n",
      "\n",
      "The following objects are masked from 'package:stats':\n",
      "\n",
      "    filter, lag\n",
      "\n",
      "\n",
      "The following objects are masked from 'package:base':\n",
      "\n",
      "    intersect, setdiff, setequal, union\n",
      "\n",
      "\n"
     ]
    }
   ],
   "source": [
    "library(dplyr)\n",
    "library(ggplot2)"
   ]
  },
  {
   "cell_type": "code",
   "execution_count": 10,
   "id": "f0c6bec9",
   "metadata": {},
   "outputs": [],
   "source": [
    "# Step 1: Generate synthetic customer purchase data\n",
    "set.seed(123)  # Ensure reproducibility\n",
    "customers <- paste(\"Customer\", 1:20)  # 20 customers\n",
    "purchases <- sample(50:500, 20, replace = TRUE)  # Random purchase amounts\n",
    "customer_data <- data.frame(Customer = customers, PurchaseAmount = purchases)"
   ]
  },
  {
   "cell_type": "code",
   "execution_count": 11,
   "id": "f0c570a4",
   "metadata": {},
   "outputs": [],
   "source": [
    "# Step 2: Categorize customers based on spending behavior using loops & conditions\n",
    "customer_category <- c()  # Empty vector to store categories\n",
    "\n",
    "for (i in 1:nrow(customer_data)) {\n",
    "  amount <- customer_data$PurchaseAmount[i]\n",
    "  \n",
    "  if (amount < 150) {\n",
    "    category <- \"Low Spender\"\n",
    "  } else if (amount < 350) {\n",
    "    category <- \"Moderate Spender\"\n",
    "  } else {\n",
    "    category <- \"High Spender\"\n",
    "  }\n",
    "  \n",
    "  customer_category <- c(customer_category, category)  # Append category\n",
    "}\n",
    "\n",
    "# Add the new category column to the data frame\n",
    "customer_data$Category <- customer_category"
   ]
  },
  {
   "cell_type": "code",
   "execution_count": 12,
   "id": "e426d1f0",
   "metadata": {},
   "outputs": [
    {
     "name": "stdout",
     "output_type": "stream",
     "text": [
      "\u001b[90m# A tibble: 3 × 5\u001b[39m\n",
      "  Category         Count Avg_Spending Max_Spending Min_Spending\n",
      "  \u001b[3m\u001b[90m<chr>\u001b[39m\u001b[23m            \u001b[3m\u001b[90m<int>\u001b[39m\u001b[23m        \u001b[3m\u001b[90m<dbl>\u001b[39m\u001b[23m        \u001b[3m\u001b[90m<int>\u001b[39m\u001b[23m        \u001b[3m\u001b[90m<int>\u001b[39m\u001b[23m\n",
      "\u001b[90m1\u001b[39m High Spender         6         434           490          355\n",
      "\u001b[90m2\u001b[39m Low Spender          5         109           140           63\n",
      "\u001b[90m3\u001b[39m Moderate Spender     9         257.          348          167\n"
     ]
    }
   ],
   "source": [
    "# Step 3: Display summary statistics\n",
    "summary_stats <- customer_data %>%\n",
    "  group_by(Category) %>%\n",
    "  summarise(\n",
    "    Count = n(),\n",
    "    Avg_Spending = mean(PurchaseAmount),\n",
    "    Max_Spending = max(PurchaseAmount),\n",
    "    Min_Spending = min(PurchaseAmount)\n",
    "  )\n",
    "\n",
    "print(summary_stats)"
   ]
  },
  {
   "cell_type": "code",
   "execution_count": 13,
   "id": "38fb7ced",
   "metadata": {},
   "outputs": [
    {
     "data": {
      "image/png": "[encoded data removed]",
      "text/plain": [
       "plot without title"
      ]
     },
     "metadata": {
      "image/png": {
       "height": 420,
       "width": 420
      }
     },
     "output_type": "display_data"
    }
   ],
   "source": [
    "# Step 4: Visualize the spending behavior using a bar plot\n",
    "ggplot(customer_data, aes(x = Category, fill = Category)) +\n",
    "  geom_bar() +\n",
    "  labs(title = \"Customer Spending Behavior\", x = \"Spending Category\", y = \"Count\") +\n",
    "  theme_minimal()\n"
   ]
  },
  {
   "cell_type": "code",
   "execution_count": null,
   "id": "8324d532",
   "metadata": {},
   "outputs": [],
   "source": []
  }
 ],
 "metadata": {
  "kernelspec": {
   "display_name": "R",
   "language": "R",
   "name": "ir"
  },
  "language_info": {
   "codemirror_mode": "r",
   "file_extension": ".r",
   "mimetype": "text/x-r-source",
   "name": "R",
   "pygments_lexer": "r",
   "version": "4.4.2"
  }
 },
 "nbformat": 4,
 "nbformat_minor": 5
}
