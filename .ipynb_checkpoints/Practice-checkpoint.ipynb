{
 "cells": [
  {
   "cell_type": "code",
   "execution_count": 1,
   "id": "22147c09",
   "metadata": {},
   "outputs": [
    {
     "name": "stdout",
     "output_type": "stream",
     "text": [
      "[1] \"Positive number\"\n"
     ]
    }
   ],
   "source": [
    "x <- 10\n",
    "\n",
    "if (x > 0) {\n",
    "  print(\"Positive number\")\n",
    "} else if (x < 0) {\n",
    "  print(\"Negative number\")\n",
    "} else {\n",
    "  print(\"Zero\")\n",
    "}\n"
   ]
  },
  {
   "cell_type": "code",
   "execution_count": 2,
   "id": "2269ee1e",
   "metadata": {},
   "outputs": [
    {
     "name": "stdout",
     "output_type": "stream",
     "text": [
      "[1] \"Iteration: 1\"\n",
      "[1] \"Iteration: 2\"\n",
      "[1] \"Iteration: 3\"\n",
      "[1] \"Iteration: 4\"\n",
      "[1] \"Iteration: 5\"\n"
     ]
    }
   ],
   "source": [
    "for (i in 1:5) {\n",
    "  print(paste(\"Iteration:\", i))\n",
    "}\n"
   ]
  },
  {
   "cell_type": "code",
   "execution_count": 3,
   "id": "28e325c8",
   "metadata": {},
   "outputs": [
    {
     "name": "stdout",
     "output_type": "stream",
     "text": [
      "[1] \"Iteration: 1\"\n",
      "[1] \"Iteration: 2\"\n",
      "[1] \"Iteration: 3\"\n",
      "[1] \"Iteration: 4\"\n",
      "[1] \"Iteration: 5\"\n"
     ]
    }
   ],
   "source": [
    "i <- 1\n",
    "while (i <= 5) {\n",
    "  print(paste(\"Iteration:\", i))\n",
    "  i <- i + 1\n",
    "}\n"
   ]
  },
  {
   "cell_type": "code",
   "execution_count": 4,
   "id": "dc19d2a9",
   "metadata": {},
   "outputs": [
    {
     "name": "stdout",
     "output_type": "stream",
     "text": [
      "[1] 30\n"
     ]
    }
   ],
   "source": [
    "numbers <- c(10, 20, 30, 40, 50)\n",
    "print(numbers[3])  # Accessing the 3rd element\n"
   ]
  },
  {
   "cell_type": "code",
   "execution_count": 5,
   "id": "3eff0bf6",
   "metadata": {},
   "outputs": [
    {
     "name": "stdout",
     "output_type": "stream",
     "text": [
      "[1] \"Alice\"\n"
     ]
    }
   ],
   "source": [
    "my_list <- list(name = \"Alice\", age = 25, scores = c(85, 90, 95))\n",
    "print(my_list$name)  # Accessing an element\n"
   ]
  },
  {
   "cell_type": "code",
   "execution_count": 6,
   "id": "82c60890",
   "metadata": {},
   "outputs": [
    {
     "name": "stdout",
     "output_type": "stream",
     "text": [
      "     Name Age Score\n",
      "1   Alice  25    90\n",
      "2     Bob  30    85\n",
      "3 Charlie  35    95\n",
      "[1] \"Alice\"   \"Bob\"     \"Charlie\"\n"
     ]
    }
   ],
   "source": [
    "df <- data.frame(\n",
    "  Name = c(\"Alice\", \"Bob\", \"Charlie\"),\n",
    "  Age = c(25, 30, 35),\n",
    "  Score = c(90, 85, 95)\n",
    ")\n",
    "\n",
    "print(df)\n",
    "print(df$Name)  # Accessing a column\n"
   ]
  },
  {
   "cell_type": "code",
   "execution_count": 7,
   "id": "becc5e4b",
   "metadata": {},
   "outputs": [
    {
     "name": "stdout",
     "output_type": "stream",
     "text": [
      "[1] 16\n"
     ]
    }
   ],
   "source": [
    "# Function to calculate square of a number\n",
    "square_function <- function(x) {\n",
    "  return(x^2)\n",
    "}\n",
    "\n",
    "# Using the function\n",
    "result <- square_function(4)\n",
    "print(result)\n"
   ]
  },
  {
   "cell_type": "code",
   "execution_count": 8,
   "id": "64fe9f73",
   "metadata": {},
   "outputs": [
    {
     "name": "stdout",
     "output_type": "stream",
     "text": [
      "[1] \"-3 is Negative\"\n",
      "[1] \"0 is Zero\"\n",
      "[1] \"7 is Positive\"\n",
      "[1] \"-2 is Negative\"\n",
      "[1] \"5 is Positive\"\n"
     ]
    }
   ],
   "source": [
    "# Function to classify numbers\n",
    "classify_numbers <- function(numbers) {\n",
    "  for (num in numbers) {\n",
    "    if (num > 0) {\n",
    "      print(paste(num, \"is Positive\"))\n",
    "    } else if (num < 0) {\n",
    "      print(paste(num, \"is Negative\"))\n",
    "    } else {\n",
    "      print(paste(num, \"is Zero\"))\n",
    "    }\n",
    "  }\n",
    "}\n",
    "\n",
    "# Example usage\n",
    "num_vector <- c(-3, 0, 7, -2, 5)\n",
    "classify_numbers(num_vector)\n"
   ]
  },
  {
   "cell_type": "code",
   "execution_count": null,
   "id": "64342071",
   "metadata": {},
   "outputs": [],
   "source": []
  }
 ],
 "metadata": {
  "kernelspec": {
   "display_name": "R",
   "language": "R",
   "name": "ir"
  },
  "language_info": {
   "codemirror_mode": "r",
   "file_extension": ".r",
   "mimetype": "text/x-r-source",
   "name": "R",
   "pygments_lexer": "r",
   "version": "4.4.2"
  }
 },
 "nbformat": 4,
 "nbformat_minor": 5
}
